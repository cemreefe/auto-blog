{
 "cells": [
  {
   "cell_type": "code",
   "execution_count": 18,
   "metadata": {},
   "outputs": [],
   "source": [
    "import os\n",
    "\n"
   ]
  },
  {
   "cell_type": "code",
   "execution_count": 19,
   "metadata": {},
   "outputs": [
    {
     "data": {
      "text/plain": [
       "''"
      ]
     },
     "execution_count": 19,
     "metadata": {},
     "output_type": "execute_result"
    }
   ],
   "source": [
    "# get GPT\n",
    "import openai\n",
    "\n",
    "openai.api_key = open('openai.apikey').read()\n",
    "openai.Model.list()\n",
    "\n",
    "\"\""
   ]
  },
  {
   "cell_type": "code",
   "execution_count": 20,
   "metadata": {},
   "outputs": [],
   "source": [
    "RISING = \"\"\"RISING\t\n",
    "afad deprem\t3,100%\n",
    "yalı çapkını\t2,950%\n",
    "chatgpt\t2,650%\n",
    "chat gpt\t1,850%\n",
    "kandilli rasathanesi\t1,300%\n",
    "kandilli\t1,200%\n",
    "afad\t1,000%\n",
    "dünya kupası\t850%\n",
    "deprem\t850%\n",
    "casibom\t800%\n",
    "son dakika deprem\t700%\n",
    "son depremler\t400%\n",
    "trt1 canlı\t350%\n",
    "çiçeksepeti\t300%\n",
    "eyt\t200%\n",
    "hektaş hisse\t190%\n",
    "sasa hisse\t180%\n",
    "star tv canlı\t140%\n",
    "betturkey\t110%\n",
    "thy hisse\t100%\n",
    "messi\t90%\n",
    "holiganbet\t80%\n",
    "superlig\t80%\n",
    "kurban bayramı ne zaman\t70%\n",
    "harem altın\t70%\"\"\""
   ]
  },
  {
   "cell_type": "code",
   "execution_count": 26,
   "metadata": {},
   "outputs": [],
   "source": [
    "def get_questions():\n",
    "    SET_ROLE_PROMPT = f'Sen insanların sormak isteyebileceği soruları bulmak için tasarlanmış bir yapay zeka varlığısın. ' \\\n",
    "    + 'Kullanıcı tarafından istenen formatta tam olarak istenilen şeyi sunmalısın.'\n",
    "\n",
    "    PROMPT = \"Aşağıda Türkiye'deki trend aramaların listesini görebilirsiniz.\\n\\n\" \\\n",
    "        + RISING + '\\n\\n' \\\n",
    "        + \"Bu konular hakkında blog yazısı başlıkları verin. Sadece başlıkları yazın, lütfen başka bir şey yazmayın. \" \\\n",
    "        + \"Her başlık yeni bir satırda olmalıdır. (important: only write titles, one title per line. write nothing else. skip anything that is not a title.)\"\n",
    "\n",
    "    message_history = [\n",
    "            {\"role\": \"system\", \"content\": SET_ROLE_PROMPT},\n",
    "            {\"role\": \"user\", \"content\": PROMPT},    \n",
    "    ]\n",
    "\n",
    "    completion = openai.ChatCompletion.create(model=\"gpt-3.5-turbo\", messages=message_history)\n",
    "    msg = completion.choices[0].message.content\n",
    "    \n",
    "    return msg\n"
   ]
  },
  {
   "cell_type": "code",
   "execution_count": 27,
   "metadata": {},
   "outputs": [],
   "source": [
    "def get_article_for_question(q):\n",
    "    SET_ROLE_PROMPT = f'Adınız Marcus Applebee. SEO-optimizasyonlu yazılara uzmanlaşmış 10 yıldan fazla deneyime sahip bir içerik oluşturucususunuz. ' \\\n",
    "    +'Her zaman sorulara açık cevaplar sunarsınız. Soruyu alır ve parçalara bölersiniz. ' \\\n",
    "    +'Soruyu soranın konu hakkında hiçbir şey bilmediğini varsayar ve her bilgi parçasını sırayla tanıtarak soruyu yanıtlamak için gereken her kavramı açıklarsınız. ' \\\n",
    "    +'Çıktılarınız etkileyici ve profesyonel olmalıdır. Makalelerinizi biçimlendirmek için markdown kullanırsınız.\\n\\n' \\\n",
    "\n",
    "    PROMPT = f'Aşağıdaki soruyu detaylı bir şekilde cevaplayan bir haber makalesi yazın: {q}'\n",
    "\n",
    "    message_history = [\n",
    "            {\"role\": \"system\", \"content\": SET_ROLE_PROMPT},\n",
    "            {\"role\": \"user\", \"content\": PROMPT},    \n",
    "    ]\n",
    "\n",
    "    completion = openai.ChatCompletion.create(model=\"gpt-3.5-turbo\", messages=message_history)\n",
    "    msg = completion.choices[0].message.content\n",
    "\n",
    "    return msg\n"
   ]
  },
  {
   "cell_type": "code",
   "execution_count": 28,
   "metadata": {},
   "outputs": [
    {
     "data": {
      "text/plain": [
       "('2018', '09', '29')"
      ]
     },
     "execution_count": 28,
     "metadata": {},
     "output_type": "execute_result"
    }
   ],
   "source": [
    "import random\n",
    "\n",
    "# return a tuple with three elements:\n",
    "# year, month, day. All random between 2016 and now.\n",
    "def get_random_date():\n",
    "    year = str(2016 + int(random.random()*7)).zfill(4)\n",
    "    month = str(int(random.random()*12)+1).zfill(2)\n",
    "    day = str(int(random.random()*30)+1).zfill(2)\n",
    "    return (year, month, day)\n",
    "\n",
    "date = get_random_date()\n",
    "date"
   ]
  },
  {
   "cell_type": "code",
   "execution_count": 29,
   "metadata": {},
   "outputs": [],
   "source": [
    "# API call\n",
    "QUESTIONS = get_questions().split(\"\\n\")"
   ]
  },
  {
   "cell_type": "code",
   "execution_count": 30,
   "metadata": {},
   "outputs": [
    {
     "data": {
      "text/plain": [
       "['- \"Türkiye\\'de Afad Deprem Arama Sonuçları ve Güncel Durumu\"',\n",
       " '- \"Yalı Çapkını: İlgi Gören Yeni Bir Dizi mi?\"',\n",
       " '- \"ChatGPT: Yapay Zeka ile Sohbet Edebilen Bir Uygulama\"',\n",
       " '- \"Kandilli Rasathanesi ve Güncel Deprem Bilgileri\"',\n",
       " '- \"Afad: Acil Durum Yönetimi ve Arama Kurtarma Faaliyetleri\"',\n",
       " '- \"Dünya Kupası: Gelecek Turnuva ve Takımlar Hakkında Bilgiler\"',\n",
       " '- \"Son Dakika Deprem Haberleri ve Güncellemeler\"',\n",
       " '- \"TRT1 Canlı Yayını: Sevdiğiniz Programları Anlık İzleme İmkanı\"',\n",
       " '- \"Çiçek Sepeti: Online Çiçek ve Hediye Siparişi\"',\n",
       " '- \"EYT (Emeklilikte Yaşa Takılanlar) Yasası ve Gelişmeler\"',\n",
       " '- \"Hektaş ve Sasa Hisseleri: Piyasa Durumu ve İşlem Stratejileri\"',\n",
       " '- \"Star TV Canlı Yayını: Favori Dizileri İzlemek için Bir Fırsat\"',\n",
       " '- \"BetTurkey: Güvenilir Bahis Siteleri ve Kampanyaları\"',\n",
       " '- \"THY Hisseleri ve Havayolu Sektöründeki Gelişmeler\"',\n",
       " '- \"Messi Transferi ve Futbol Dünyasındaki Son Gelişmeler\"',\n",
       " '- \"Holiganbet: Güvenilir Bahis Siteleri ve Kazanma Taktikleri\"',\n",
       " '- \"Süper Lig: Türk Futbolundaki Son Maçlar ve Puan Durumu\"',\n",
       " '- \"Kurban Bayramı Ne Zaman? Tatil Planlaması ve Önemli Tarihler\"',\n",
       " '- \"Harem Altın: Değerli Maden Fiyatları ve Yatırım İmkanları\"']"
      ]
     },
     "execution_count": 30,
     "metadata": {},
     "output_type": "execute_result"
    }
   ],
   "source": [
    "QUESTIONS"
   ]
  },
  {
   "cell_type": "code",
   "execution_count": 31,
   "metadata": {},
   "outputs": [
    {
     "name": "stdout",
     "output_type": "stream",
     "text": [
      "<- \"Türkiye'de Afad Deprem Arama Sonuçları ve Güncel Durumu\">: creating article\n",
      "<- \"Yalı Çapkını: İlgi Gören Yeni Bir Dizi mi?\">: creating article\n",
      "<- \"ChatGPT: Yapay Zeka ile Sohbet Edebilen Bir Uygulama\">: creating article\n",
      "<- \"Kandilli Rasathanesi ve Güncel Deprem Bilgileri\">: creating article\n",
      "<- \"Afad: Acil Durum Yönetimi ve Arama Kurtarma Faaliyetleri\">: creating article\n",
      "<- \"Dünya Kupası: Gelecek Turnuva ve Takımlar Hakkında Bilgiler\">: creating article\n",
      "<- \"Son Dakika Deprem Haberleri ve Güncellemeler\">: creating article\n",
      "<- \"TRT1 Canlı Yayını: Sevdiğiniz Programları Anlık İzleme İmkanı\">: creating article\n",
      "<- \"Çiçek Sepeti: Online Çiçek ve Hediye Siparişi\">: creating article\n",
      "<- \"EYT (Emeklilikte Yaşa Takılanlar) Yasası ve Gelişmeler\">: creating article\n",
      "<- \"Hektaş ve Sasa Hisseleri: Piyasa Durumu ve İşlem Stratejileri\">: creating article\n",
      "<- \"Star TV Canlı Yayını: Favori Dizileri İzlemek için Bir Fırsat\">: creating article\n",
      "<- \"BetTurkey: Güvenilir Bahis Siteleri ve Kampanyaları\">: creating article\n",
      "<- \"THY Hisseleri ve Havayolu Sektöründeki Gelişmeler\">: creating article\n",
      "<- \"Messi Transferi ve Futbol Dünyasındaki Son Gelişmeler\">: creating article\n",
      "<- \"Holiganbet: Güvenilir Bahis Siteleri ve Kazanma Taktikleri\">: creating article\n",
      "<- \"Süper Lig: Türk Futbolundaki Son Maçlar ve Puan Durumu\">: creating article\n",
      "<- \"Kurban Bayramı Ne Zaman? Tatil Planlaması ve Önemli Tarihler\">: creating article\n",
      "<- \"Harem Altın: Değerli Maden Fiyatları ve Yatırım İmkanları\">: creating article\n"
     ]
    }
   ],
   "source": [
    "ARTICLES = {}\n",
    "\n",
    "# multiple API calls\n",
    "for q in QUESTIONS:\n",
    "    q_url = q.replace(\" \", \"-\").replace(\"?\", \"\")\n",
    "    path = f\"./articles/{q_url}.md\"\n",
    "    if os.path.exists(path):\n",
    "        print(f\"<{q}>: article already exists \")\n",
    "        continue\n",
    "    else:\n",
    "        print(f\"<{q}>: creating article\")\n",
    "        article = get_article_for_question(q)\n",
    "        ARTICLES[q_url] = article"
   ]
  },
  {
   "cell_type": "code",
   "execution_count": 33,
   "metadata": {},
   "outputs": [],
   "source": [
    "os.makedirs(os.path.join('source', 'tr', 'articles', *date), exist_ok=True)\n",
    "\n",
    "for qurl, article in ARTICLES.items():\n",
    "    open(os.path.join('source', 'tr', 'articles', *date, qurl + '.md'), 'w').write(article)   \n"
   ]
  },
  {
   "cell_type": "code",
   "execution_count": null,
   "metadata": {},
   "outputs": [],
   "source": []
  }
 ],
 "metadata": {
  "kernelspec": {
   "display_name": "Python 3",
   "language": "python",
   "name": "python3"
  },
  "language_info": {
   "codemirror_mode": {
    "name": "ipython",
    "version": 3
   },
   "file_extension": ".py",
   "mimetype": "text/x-python",
   "name": "python",
   "nbconvert_exporter": "python",
   "pygments_lexer": "ipython3",
   "version": "3.11.4"
  },
  "orig_nbformat": 4
 },
 "nbformat": 4,
 "nbformat_minor": 2
}
