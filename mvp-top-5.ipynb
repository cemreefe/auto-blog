{
 "cells": [
  {
   "cell_type": "code",
   "execution_count": null,
   "metadata": {},
   "outputs": [],
   "source": [
    "import os\n"
   ]
  },
  {
   "cell_type": "code",
   "execution_count": null,
   "metadata": {},
   "outputs": [],
   "source": [
    "# get GPT\n",
    "import openai\n",
    "\n",
    "openai.api_key = os.getenv(\"OPENAI_API_KEY\")\n",
    "openai.Model.list()\n",
    "\n",
    "\"\""
   ]
  },
  {
   "cell_type": "code",
   "execution_count": null,
   "metadata": {},
   "outputs": [],
   "source": [
    "    \n",
    "def get_questions():\n",
    "    SET_ROLE_PROMPT = f'You are an AI entity designed to find questions people can ask. Your specialisation is \"How to\" or \"How do I\" questions. You provide any answer exaclty in the requested format by the user.'\n",
    "\n",
    "    PROMPT = f\"Give me 4 questions starting with 'How'. Do not write anything else, only the questions. Every question should be in a new line and end with a question mark.\"\n",
    "\n",
    "    message_history = [\n",
    "            {\"role\": \"system\", \"content\": SET_ROLE_PROMPT},\n",
    "            {\"role\": \"user\", \"content\": PROMPT},    \n",
    "    ]\n",
    "\n",
    "\n",
    "    completion = openai.ChatCompletion.create(model=\"gpt-3.5-turbo\", messages=message_history)\n",
    "    msg = completion.choices[0].message.content\n",
    "    \n",
    "    return msg"
   ]
  },
  {
   "cell_type": "code",
   "execution_count": null,
   "metadata": {},
   "outputs": [],
   "source": [
    "    \n",
    "def get_article_for_question(q):\n",
    "    SET_ROLE_PROMPT = f'Your name is Marcus Applebee. You are a copywriter with more than 10 years of experience specialising in SEO-optimised posts. Your company is \"top5waysto.com\". All of your articles provide the top 5 ways to achieve the question asked. You must explain every way in delicate detail and leave nothing out. You always provide clear answers to questions. You take the question, and break it into pieces. You assume the asker doesnt know anything about the topic so you introduce every piece of information in sequence explainin every concept you need to answer the question. Your outputs should be engaging and professional. You use markdown to format your articles.'\n",
    "\n",
    "    PROMPT = f\"Write me an article answering the following question in detail. The title should start with 'Top 5 ways to': {q}\"\n",
    "\n",
    "    message_history = [\n",
    "            {\"role\": \"system\", \"content\": SET_ROLE_PROMPT},\n",
    "            {\"role\": \"user\", \"content\": PROMPT},    \n",
    "    ]\n",
    "\n",
    "\n",
    "    completion = openai.ChatCompletion.create(model=\"gpt-3.5-turbo\", messages=message_history)\n",
    "    msg = completion.choices[0].message.content\n",
    "    \n",
    "    return msg"
   ]
  },
  {
   "cell_type": "code",
   "execution_count": null,
   "metadata": {},
   "outputs": [],
   "source": [
    "QUESTIONS = get_questions()"
   ]
  },
  {
   "cell_type": "code",
   "execution_count": null,
   "metadata": {},
   "outputs": [],
   "source": [
    "QUESTIONS = QUESTIONS.split('\\n')\n",
    "QUESTIONS"
   ]
  },
  {
   "cell_type": "code",
   "execution_count": null,
   "metadata": {},
   "outputs": [],
   "source": [
    "for q in QUESTIONS:\n",
    "    article = get_article_for_question(q)\n",
    "    q = q.replace(\" \", \"-\").replace(\"?\", \"\")\n",
    "    with open(f\"top5/{q}.md\", \"w\") as f:\n",
    "        f.write(article)"
   ]
  },
  {
   "cell_type": "code",
   "execution_count": null,
   "metadata": {},
   "outputs": [],
   "source": []
  }
 ],
 "metadata": {
  "kernelspec": {
   "display_name": "Python 3",
   "language": "python",
   "name": "python3"
  },
  "language_info": {
   "codemirror_mode": {
    "name": "ipython",
    "version": 3
   },
   "file_extension": ".py",
   "mimetype": "text/x-python",
   "name": "python",
   "nbconvert_exporter": "python",
   "pygments_lexer": "ipython3",
   "version": "3.11.4"
  },
  "orig_nbformat": 4
 },
 "nbformat": 4,
 "nbformat_minor": 2
}
