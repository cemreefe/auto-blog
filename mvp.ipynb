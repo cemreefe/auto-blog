{
 "cells": [
  {
   "cell_type": "code",
   "execution_count": 55,
   "metadata": {},
   "outputs": [],
   "source": [
    "import os\n",
    "\n"
   ]
  },
  {
   "cell_type": "code",
   "execution_count": 56,
   "metadata": {},
   "outputs": [
    {
     "data": {
      "text/plain": [
       "''"
      ]
     },
     "execution_count": 56,
     "metadata": {},
     "output_type": "execute_result"
    }
   ],
   "source": [
    "# get GPT\n",
    "import openai\n",
    "\n",
    "openai.api_key = open('openai.apikey').read()\n",
    "openai.Model.list()\n",
    "\n",
    "\"\""
   ]
  },
  {
   "cell_type": "code",
   "execution_count": 57,
   "metadata": {},
   "outputs": [],
   "source": [
    "    \n",
    "def get_questions():\n",
    "    SET_ROLE_PROMPT = f'You are an AI entity designed to find questions people can ask. ' \\\n",
    "    + 'You provide anything exaclty in the requested format by the user.'\n",
    "\n",
    "    PROMPT = f\"Give me 4 questions starting with 'How' or 'Why'. Do not write anything else, only the questions. Every question should be in a new line and end with a question mark.\"\n",
    "\n",
    "    message_history = [\n",
    "            {\"role\": \"system\", \"content\": SET_ROLE_PROMPT},\n",
    "            {\"role\": \"user\", \"content\": PROMPT},    \n",
    "    ]\n",
    "\n",
    "    completion = openai.ChatCompletion.create(model=\"gpt-3.5-turbo\", messages=message_history)\n",
    "    msg = completion.choices[0].message.content\n",
    "    \n",
    "    return msg"
   ]
  },
  {
   "cell_type": "code",
   "execution_count": 58,
   "metadata": {},
   "outputs": [],
   "source": [
    "    \n",
    "def get_article_for_question(q):\n",
    "    SET_ROLE_PROMPT = f'Your name is Marcus Applebee. You are a content creator with more than 10 years of experience specialising in SEO-optimised posts. ' \\\n",
    "    +'You always provide clear answers to questions. You take the question, and break it into pieces. ' \\\n",
    "    +'You assume the asker doesnt know anything about the topic so you introduce every piece of information in sequence explainin every concept you need to answer the question. ' \\\n",
    "    +'Your outputs should be engaging and professional. You use markdown to format your articles.\\n\\n' \\\n",
    "    +'Important: Do NOT use placeholders for date location etc.' \n",
    "\n",
    "    PROMPT = f\"Write me a news article answering the following question in detail: {q}\"\n",
    "\n",
    "    message_history = [\n",
    "            {\"role\": \"system\", \"content\": SET_ROLE_PROMPT},\n",
    "            {\"role\": \"user\", \"content\": PROMPT},    \n",
    "    ]\n",
    "\n",
    "\n",
    "    completion = openai.ChatCompletion.create(model=\"gpt-3.5-turbo\", messages=message_history)\n",
    "    msg = completion.choices[0].message.content\n",
    "    \n",
    "    return msg"
   ]
  },
  {
   "cell_type": "code",
   "execution_count": 59,
   "metadata": {},
   "outputs": [
    {
     "data": {
      "text/plain": [
       "('2017', '08', '10')"
      ]
     },
     "execution_count": 59,
     "metadata": {},
     "output_type": "execute_result"
    }
   ],
   "source": [
    "import random\n",
    "\n",
    "# return a tuple with three elements:\n",
    "# year, month, day. All random between 2016 and now.\n",
    "def get_random_date():\n",
    "    year = str(2016 + int(random.random()*7)).zfill(4)\n",
    "    month = str(int(random.random()*12)+1).zfill(2)\n",
    "    day = str(int(random.random()*30)+1).zfill(2)\n",
    "    return (year, month, day)\n",
    "\n",
    "date = get_random_date()\n",
    "date"
   ]
  },
  {
   "cell_type": "code",
   "execution_count": 60,
   "metadata": {},
   "outputs": [],
   "source": [
    "# API call\n",
    "QUESTIONS = get_questions().split(\"\\n\")"
   ]
  },
  {
   "cell_type": "code",
   "execution_count": 61,
   "metadata": {},
   "outputs": [
    {
     "data": {
      "text/plain": [
       "['How do plants convert sunlight into energy?',\n",
       " 'Why do birds migrate?',\n",
       " 'How does gravity affect the motion of objects?',\n",
       " 'Why is the sky blue?']"
      ]
     },
     "execution_count": 61,
     "metadata": {},
     "output_type": "execute_result"
    }
   ],
   "source": [
    "QUESTIONS"
   ]
  },
  {
   "cell_type": "code",
   "execution_count": 53,
   "metadata": {},
   "outputs": [
    {
     "name": "stdout",
     "output_type": "stream",
     "text": [
      "<How does gravity work?>: creating article\n",
      "<Why do some people have allergies?>: creating article\n",
      "<How can I improve my writing skills?>: creating article\n",
      "<Why is the sky blue?>: creating article\n"
     ]
    }
   ],
   "source": [
    "ARTICLES = {}\n",
    "\n",
    "# multiple API calls\n",
    "for q in QUESTIONS:\n",
    "    q_url = q.replace(\" \", \"-\").replace(\"?\", \"\")\n",
    "    path = f\"./articles/{q_url}.md\"\n",
    "    if os.path.exists(path):\n",
    "        print(f\"<{q}>: article already exists \")\n",
    "        continue\n",
    "    else:\n",
    "        print(f\"<{q}>: creating article\")\n",
    "        article = get_article_for_question(q)\n",
    "        ARTICLES[q_url] = article"
   ]
  },
  {
   "cell_type": "code",
   "execution_count": 54,
   "metadata": {},
   "outputs": [],
   "source": [
    "os.makedirs(os.path.join('source', *date), exist_ok=True)\n",
    "\n",
    "for qurl, article in ARTICLES.items():\n",
    "    open(os.path.join('source', 'articles', *date, qurl + '.md'), 'w').write(article)   \n"
   ]
  },
  {
   "cell_type": "code",
   "execution_count": null,
   "metadata": {},
   "outputs": [],
   "source": []
  }
 ],
 "metadata": {
  "kernelspec": {
   "display_name": "Python 3",
   "language": "python",
   "name": "python3"
  },
  "language_info": {
   "codemirror_mode": {
    "name": "ipython",
    "version": 3
   },
   "file_extension": ".py",
   "mimetype": "text/x-python",
   "name": "python",
   "nbconvert_exporter": "python",
   "pygments_lexer": "ipython3",
   "version": "3.11.4"
  },
  "orig_nbformat": 4
 },
 "nbformat": 4,
 "nbformat_minor": 2
}
