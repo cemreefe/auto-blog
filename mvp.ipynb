{
 "cells": [
  {
   "cell_type": "code",
   "execution_count": 26,
   "metadata": {},
   "outputs": [],
   "source": [
    "import os\n",
    "\n"
   ]
  },
  {
   "cell_type": "code",
   "execution_count": 21,
   "metadata": {},
   "outputs": [
    {
     "data": {
      "text/plain": [
       "''"
      ]
     },
     "execution_count": 21,
     "metadata": {},
     "output_type": "execute_result"
    }
   ],
   "source": [
    "# get GPT\n",
    "import openai\n",
    "\n",
    "openai.api_key = os.getenv(\"OPENAI_API_KEY\")\n",
    "openai.Model.list()\n",
    "\n",
    "\"\""
   ]
  },
  {
   "cell_type": "code",
   "execution_count": 22,
   "metadata": {},
   "outputs": [],
   "source": [
    "    \n",
    "def get_questions():\n",
    "    SET_ROLE_PROMPT = f'You are an AI entity designed to find questions people can ask. Your specialisation is \"How to\" or \"Why\" questions. You provide anything exaclty in the requested format by the user.'\n",
    "\n",
    "    PROMPT = f\"Give me 4 questions starting with 'How' or 'Why'. Do not write anything else, only the questions. Every question should be in a new line and end with a question mark.\"\n",
    "\n",
    "    message_history = [\n",
    "            {\"role\": \"system\", \"content\": SET_ROLE_PROMPT},\n",
    "            {\"role\": \"user\", \"content\": PROMPT},    \n",
    "    ]\n",
    "\n",
    "    completion = openai.ChatCompletion.create(model=\"gpt-3.5-turbo\", messages=message_history)\n",
    "    msg = completion.choices[0].message.content\n",
    "    \n",
    "    return msg"
   ]
  },
  {
   "cell_type": "code",
   "execution_count": 23,
   "metadata": {},
   "outputs": [],
   "source": [
    "QUESTIONS = [\n",
    "    \"Why are taxis yellow?\",\n",
    "    \"Why are taxis in London black?\",\n",
    "    \"What color is air?\",\n",
    "    \"What is a Lieutenant?\",\n",
    "    \"What is verlan?\"\n",
    "]\n",
    "\n",
    "QUESTIONS = get_questions().split(\"\\n\")"
   ]
  },
  {
   "cell_type": "code",
   "execution_count": 24,
   "metadata": {},
   "outputs": [],
   "source": [
    "    \n",
    "def get_article_for_question(q):\n",
    "    SET_ROLE_PROMPT = f'Your name is Marcus Applebee. You are a copywriter with more than 10 years of experience specialising in SEO-optimised posts. You always provide clear answers to questions. You take the question, and break it into pieces. You assume the asker doesnt know anything about the topic so you introduce every piece of information in sequence explainin every concept you need to answer the question. Your outputs should be engaging and professional. You use markdown to format your articles. Do NOT use any placeholders.'\n",
    "\n",
    "    PROMPT = f\"Write me a news article answering the following question in detail: {q}\"\n",
    "\n",
    "    message_history = [\n",
    "            {\"role\": \"system\", \"content\": SET_ROLE_PROMPT},\n",
    "            {\"role\": \"user\", \"content\": PROMPT},    \n",
    "    ]\n",
    "\n",
    "\n",
    "    completion = openai.ChatCompletion.create(model=\"gpt-3.5-turbo\", messages=message_history)\n",
    "    msg = completion.choices[0].message.content\n",
    "    \n",
    "    return msg"
   ]
  },
  {
   "cell_type": "code",
   "execution_count": 25,
   "metadata": {},
   "outputs": [
    {
     "name": "stdout",
     "output_type": "stream",
     "text": [
      "<How can I improve my concentration?>: creating article\n",
      "<Why do dogs wag their tails?>: creating article\n",
      "<How can I train my brain to be more positive?>: creating article\n",
      "<Why should I exercise regularly?>: creating article\n"
     ]
    }
   ],
   "source": [
    "for q in QUESTIONS:\n",
    "    q_url = q.replace(\" \", \"-\").replace(\"?\", \"\")\n",
    "    path = f\"./articles/{q_url}.md\"\n",
    "    if os.path.exists(path):\n",
    "        print(f\"<{q}>: article already exists \")\n",
    "        continue\n",
    "    else:\n",
    "        print(f\"<{q}>: creating article\")\n",
    "        article = get_article_for_question(q)\n",
    "        with open(path, \"w\") as f:\n",
    "            f.write(article)"
   ]
  },
  {
   "cell_type": "code",
   "execution_count": null,
   "metadata": {},
   "outputs": [],
   "source": []
  }
 ],
 "metadata": {
  "kernelspec": {
   "display_name": "Python 3",
   "language": "python",
   "name": "python3"
  },
  "language_info": {
   "codemirror_mode": {
    "name": "ipython",
    "version": 3
   },
   "file_extension": ".py",
   "mimetype": "text/x-python",
   "name": "python",
   "nbconvert_exporter": "python",
   "pygments_lexer": "ipython3",
   "version": "3.11.4"
  },
  "orig_nbformat": 4
 },
 "nbformat": 4,
 "nbformat_minor": 2
}
